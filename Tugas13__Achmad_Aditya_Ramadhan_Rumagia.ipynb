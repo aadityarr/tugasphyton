{
  "nbformat": 4,
  "nbformat_minor": 0,
  "metadata": {
    "colab": {
      "name": "Tugas13_ Achmad Aditya Ramadhan Rumagia.ipynb",
      "provenance": [],
      "include_colab_link": true
    },
    "kernelspec": {
      "name": "python3",
      "display_name": "Python 3"
    }
  },
  "cells": [
    {
      "cell_type": "markdown",
      "metadata": {
        "id": "view-in-github",
        "colab_type": "text"
      },
      "source": [
        "<a href=\"https://colab.research.google.com/github/aadityarr/tugasphyton/blob/main/Tugas13__Achmad_Aditya_Ramadhan_Rumagia.ipynb\" target=\"_parent\"><img src=\"https://colab.research.google.com/assets/colab-badge.svg\" alt=\"Open In Colab\"/></a>"
      ]
    },
    {
      "cell_type": "markdown",
      "metadata": {
        "id": "bJvxhpbvwZIv"
      },
      "source": [
        "# Grafik 1 - FREKUENSI 1800 Mhz"
      ]
    },
    {
      "cell_type": "code",
      "metadata": {
        "id": "_a_N7F-JBnG8"
      },
      "source": [
        "import numpy as np\n",
        "import matplotlib.pyplot as plt\n"
      ],
      "execution_count": 1,
      "outputs": []
    },
    {
      "cell_type": "code",
      "metadata": {
        "id": "EJUGiqITQfx5"
      },
      "source": [
        "def cos(frek,tipe,ht,hr,d):\n",
        "    if frek in range(150,1501):\n",
        "        Ca=69.55\n",
        "        Cb=26.16\n",
        "    elif frek in range(1501,2001):\n",
        "        Ca=46.3\n",
        "        Cb=33.9\n",
        "    \n",
        "    if tipe=='urban' :\n",
        "        Cm=0\n",
        "    elif tipe=='suburban' :\n",
        "        Cm= -2*((np.log10((frek/28)**2))-5.4)\n",
        "    elif tipe=='open' :\n",
        "        Cm= -4.78*(np.log10(frek))+18.33*(np.log10(frek))-40.94\n",
        "    else :\n",
        "        Cm='tipe salah'\n",
        "    \n",
        "    ahr = (1.1*np.log10(frek)-0.7)*hr-(1.56*np.log10(frek)-1.8)\n",
        "    Lp = Ca+(Cb*np.log10(frek))-(13.83*np.log(ht))-ahr+((44.9-6.55*np.log10(ht))*np.log10(d))-Cm\n",
        "    \n",
        "    return Lp"
      ],
      "execution_count": 2,
      "outputs": []
    },
    {
      "cell_type": "code",
      "metadata": {
        "id": "53d-Ye-LQlXh"
      },
      "source": [
        "f=1800 #MHz\n",
        "zona_a='urban'\n",
        "zona_b='suburban'\n",
        "zona_c='open'\n",
        "tower=80 #m\n",
        "user=1.5 #m\n",
        "dmin=200 #m\n",
        "dmax=700 #m\n",
        "N=200 #titik\n",
        "d=np.random.randint(dmin,dmax,N)"
      ],
      "execution_count": 3,
      "outputs": []
    },
    {
      "cell_type": "code",
      "metadata": {
        "colab": {
          "base_uri": "https://localhost:8080/"
        },
        "id": "qhdPl7JETiqL",
        "outputId": "a15ae202-c339-453b-d518-3ae8328fb8cc"
      },
      "source": [
        "print(d)"
      ],
      "execution_count": 5,
      "outputs": [
        {
          "output_type": "stream",
          "text": [
            "[237 607 544 605 272 659 304 517 400 404 406 498 468 260 666 549 528 366\n",
            " 450 496 655 520 465 276 602 412 409 480 252 347 521 529 639 212 537 232\n",
            " 425 321 417 226 465 626 494 442 470 287 494 559 590 344 381 330 203 452\n",
            " 645 624 512 541 381 575 217 290 287 398 439 348 643 345 586 644 699 582\n",
            " 311 548 532 362 629 327 457 312 589 421 504 449 378 417 698 461 503 400\n",
            " 346 534 251 515 544 657 249 521 570 430 689 547 604 584 453 463 200 627\n",
            " 617 344 439 564 639 656 601 263 579 523 218 475 501 476 544 263 386 286\n",
            " 644 442 404 655 688 678 650 383 621 359 241 214 639 483 262 365 385 542\n",
            " 674 360 554 698 376 390 435 528 383 572 589 261 379 245 521 390 459 369\n",
            " 509 608 534 336 299 622 566 389 404 599 520 589 336 638 658 399 443 602\n",
            " 293 431 304 354 581 294 476 270 661 556 219 492 561 510 649 206 492 417\n",
            " 648 658]\n"
          ],
          "name": "stdout"
        }
      ]
    },
    {
      "cell_type": "code",
      "metadata": {
        "id": "IgW6t5oSRMBQ"
      },
      "source": [
        "LpUrban=cos(f,zona_a,tower,user,d)\r\n",
        "LpSuburban=cos(f,zona_b,tower,user,d)\r\n",
        "LpOpen=cos(f,zona_c,tower,user,d)"
      ],
      "execution_count": 6,
      "outputs": []
    },
    {
      "cell_type": "code",
      "metadata": {
        "id": "MbvWh9qIRkKJ"
      },
      "source": [
        "d_sort=d[np.argsort(d)]\n",
        "Urban_sort=LpUrban[np.argsort(d)]\n",
        "Suburban_sort=LpSuburban[np.argsort(d)]\n",
        "Open_sort=LpOpen[np.argsort(d)]"
      ],
      "execution_count": 7,
      "outputs": []
    },
    {
      "cell_type": "markdown",
      "metadata": {
        "id": "fqJ4Fx86Njge"
      },
      "source": [
        "# Gambar Kurva"
      ]
    },
    {
      "cell_type": "code",
      "metadata": {
        "colab": {
          "base_uri": "https://localhost:8080/",
          "height": 295
        },
        "id": "79YaOB0uSBn6",
        "outputId": "48276ea8-620d-42a2-9032-6f18ab26c488"
      },
      "source": [
        "plt.figure()\n",
        "plt.plot(d_sort,Urban_sort,'r-', label='Urban')\n",
        "plt.plot(d_sort,Suburban_sort,'k-', label='Suburban')\n",
        "plt.plot(d_sort,Open_sort,'g-', label='Open')\n",
        "plt.legend()\n",
        "plt.title('Frekuensi 1800 MHz')\n",
        "plt.xlabel('Jarak (m)')\n",
        "plt.ylabel('Path Loss (dB)')\n",
        "plt.show()\n"
      ],
      "execution_count": 8,
      "outputs": [
        {
          "output_type": "display_data",
          "data": {
            "image/png": "[encoded data removed]",
            "text/plain": [
              "<Figure size 432x288 with 1 Axes>"
            ]
          },
          "metadata": {
            "tags": [],
            "needs_background": "light"
          }
        }
      ]
    },
    {
      "cell_type": "markdown",
      "metadata": {
        "id": "19wUqWa9woIn"
      },
      "source": [
        "# Grafik 2 - Model Urban"
      ]
    },
    {
      "cell_type": "code",
      "metadata": {
        "id": "Zk1jSdPexLIp"
      },
      "source": [
        "f=700 #MHz\n",
        "f2=900 #MHz\n",
        "f3=1800 #MHz\n",
        "zona_a='urban'\n",
        "tower=80 #m\n",
        "user=1.5 #m\n",
        "dmin=200 #m\n",
        "dmax=700 #m\n",
        "N=200 #titik\n",
        "d=np.random.randint(dmin,dmax,N)"
      ],
      "execution_count": 9,
      "outputs": []
    },
    {
      "cell_type": "code",
      "metadata": {
        "id": "Y1iMo8EvwyuB"
      },
      "source": [
        "LpUrban=cos(f,zona_a,tower,user,d)\r\n",
        "LpUrban2=cos(f2,zona_a,tower,user,d)\r\n",
        "LpUrban3=cos(f3,zona_a,tower,user,d)"
      ],
      "execution_count": 10,
      "outputs": []
    },
    {
      "cell_type": "code",
      "metadata": {
        "id": "AmH-XbCqxfa5"
      },
      "source": [
        "d_sort=d[np.argsort(d)]\r\n",
        "Urban_sort=LpUrban[np.argsort(d)]\r\n",
        "Urban2_sort=LpUrban2[np.argsort(d)]\r\n",
        "Urban3_sort=LpUrban3[np.argsort(d)]"
      ],
      "execution_count": 11,
      "outputs": []
    },
    {
      "cell_type": "markdown",
      "metadata": {
        "id": "myQOO0170ERp"
      },
      "source": [
        "# Gambar Kurva "
      ]
    },
    {
      "cell_type": "code",
      "metadata": {
        "colab": {
          "base_uri": "https://localhost:8080/",
          "height": 295
        },
        "id": "SVEprCkIyFnx",
        "outputId": "6df5e145-79fb-4645-811d-c0ca13d06dce"
      },
      "source": [
        "plt.figure()\n",
        "plt.plot(d_sort,Urban_sort,'r-', label='700 Mhz')\n",
        "plt.plot(d_sort,Urban2_sort,'k-', label='900 Mhz')\n",
        "plt.plot(d_sort,Urban3_sort,'g-', label='1800 Mhz')\n",
        "plt.legend()\n",
        "plt.title('Model Urban')\n",
        "plt.xlabel('Jarak (m)')\n",
        "plt.ylabel('Path Loss (dB)')\n",
        "plt.show()\n"
      ],
      "execution_count": 12,
      "outputs": [
        {
          "output_type": "display_data",
          "data": {
            "image/png": "[encoded data removed]",
            "text/plain": [
              "<Figure size 432x288 with 1 Axes>"
            ]
          },
          "metadata": {
            "tags": [],
            "needs_background": "light"
          }
        }
      ]
    }
  ]
}