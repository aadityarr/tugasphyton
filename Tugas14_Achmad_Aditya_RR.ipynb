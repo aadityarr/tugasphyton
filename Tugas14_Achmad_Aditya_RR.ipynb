{
  "nbformat": 4,
  "nbformat_minor": 0,
  "metadata": {
    "colab": {
      "name": "Tugas14_Anggita_RF.ipynb",
      "provenance": [],
      "collapsed_sections": [],
      "include_colab_link": true
    },
    "kernelspec": {
      "name": "python3",
      "display_name": "Python 3"
    }
  },
  "cells": [
    {
      "cell_type": "markdown",
      "metadata": {
        "id": "view-in-github",
        "colab_type": "text"
      },
      "source": [
        "<a href=\"https://colab.research.google.com/github/aadityarr/tugasphyton/blob/main/Tugas14_Achmad_Aditya_RR.ipynb\" target=\"_parent\"><img src=\"https://colab.research.google.com/assets/colab-badge.svg\" alt=\"Open In Colab\"/></a>"
      ]
    },
    {
      "cell_type": "markdown",
      "metadata": {
        "id": "6TrGZpCYQbZl"
      },
      "source": [
        "# Achmad Aditya Ramadhan R_1101184147_Tugas14\r\n"
      ]
    },
    {
      "cell_type": "markdown",
      "metadata": {
        "id": "bJvxhpbvwZIv"
      },
      "source": [
        "# **1. Perhitungan Daya Terima**"
      ]
    },
    {
      "cell_type": "code",
      "metadata": {
        "id": "_a_N7F-JBnG8"
      },
      "source": [
        "import numpy as np\n",
        "import matplotlib.pyplot as plt\n"
      ],
      "execution_count": 7,
      "outputs": []
    },
    {
      "cell_type": "code",
      "metadata": {
        "id": "EJUGiqITQfx5"
      },
      "source": [
        "def cos(frek,tipe,ht,hr,d):\n",
        "    if frek in range(150,1501):\n",
        "        Ca=69.55\n",
        "        Cb=26.16\n",
        "    elif frek in range(1501,2001):\n",
        "        Ca=46.3\n",
        "        Cb=33.9\n",
        "    \n",
        "    if tipe=='urban' :\n",
        "        Cm=0\n",
        "    elif tipe=='suburban' :\n",
        "        Cm= -2*((np.log10((frek/28)**2))-5.4)\n",
        "    elif tipe=='open' :\n",
        "        Cm= -4.78*(np.log10(frek))+18.33*(np.log10(frek))-40.94\n",
        "    else :\n",
        "        Cm='tipe salah'\n",
        "    \n",
        "    ahr = (1.1*np.log10(frek)-0.7)*hr-(1.56*np.log10(frek)-1.8)\n",
        "    Lp = Ca+(Cb*np.log10(frek))-(13.83*np.log(ht))-ahr+((44.9-6.55*np.log10(ht))*np.log10(d))-Cm\n",
        "    \n",
        "    return Lp"
      ],
      "execution_count": 8,
      "outputs": []
    },
    {
      "cell_type": "code",
      "metadata": {
        "id": "53d-Ye-LQlXh"
      },
      "source": [
        "f=1800 #MHz\n",
        "loc1='urban'\n",
        "loc2='suburban'\n",
        "loc3='open'\n",
        "tower=80 #m\n",
        "user=1.5 #m\n",
        "dmin=200 #m\n",
        "dmax=700 #m \n",
        "Ptx= 30000 #miliwatt\n",
        "Gtx= 10 #db\n",
        "Grx= 2 #db\n",
        "N=200 #titik\n",
        "d=np.random.randint(dmin,dmax,N)"
      ],
      "execution_count": 3,
      "outputs": []
    },
    {
      "cell_type": "code",
      "metadata": {
        "id": "vpdTXxQ-Ho6X"
      },
      "source": [
        "NtL = lambda x : 10*np.log10(x) #numerik(watt) ke logaritmik(dB)\r\n",
        "LtN = lambda x : 10**(x/10) #logaritmik(dB) ke numerik(watt)"
      ],
      "execution_count": 4,
      "outputs": []
    },
    {
      "cell_type": "code",
      "metadata": {
        "id": "uboNhgEUQINp"
      },
      "source": [
        "Ptx_convert= NtL(Ptx) #ubah daya pengirim ke bentuk logaritmik (dB)"
      ],
      "execution_count": 5,
      "outputs": []
    },
    {
      "cell_type": "code",
      "metadata": {
        "id": "Nr6ADB3iqahm"
      },
      "source": [
        "def Prx(ptx,PL,gain_tr,gain_rv):\r\n",
        "    Ptx_convert= NtL(ptx) \r\n",
        "    prx = Ptx_convert - (PL + gain_tr + gain_rv)\r\n",
        "    Prx_convert= LtN(prx) #ubah daya terima ke bentuk numerik (miliWatt)\r\n",
        "\r\n",
        "    return Prx_convert # miliwatt"
      ],
      "execution_count": 6,
      "outputs": []
    },
    {
      "cell_type": "markdown",
      "metadata": {
        "id": "fqJ4Fx86Njge"
      },
      "source": [
        "# Grafik 1- Frekuensi 1800 Mhz"
      ]
    },
    {
      "cell_type": "code",
      "metadata": {
        "id": "IgW6t5oSRMBQ"
      },
      "source": [
        "LpUrban=cos(f,loc1,tower,user,d)\r\n",
        "LpSuburban=cos(f,loc2,tower,user,d)\r\n",
        "LpOpen=cos(f,loc3,tower,user,d)"
      ],
      "execution_count": 9,
      "outputs": []
    },
    {
      "cell_type": "code",
      "metadata": {
        "id": "XMM9U7J-qsNH"
      },
      "source": [
        "#nilai Prx tiap kawasan dalam miliwatt\r\n",
        "Prx_Urban=Prx(Ptx_convert,LpUrban,Gtx,Grx )\r\n",
        "Prx_Suburban=Prx(Ptx_convert,LpSuburban,Gtx,Grx)\r\n",
        "Prx_Open=Prx(Ptx_convert,LpOpen,Gtx,Grx)"
      ],
      "execution_count": 10,
      "outputs": []
    },
    {
      "cell_type": "code",
      "metadata": {
        "id": "rPPDzfYyYcly"
      },
      "source": [
        "d_sort=d[np.argsort(d)]\r\n",
        "Urban_sort=Prx_Urban[np.argsort(d)]\r\n",
        "Suburban_sort=Prx_Suburban[np.argsort(d)]\r\n",
        "Open_sort=Prx_Open[np.argsort(d)]"
      ],
      "execution_count": 12,
      "outputs": []
    },
    {
      "cell_type": "code",
      "metadata": {
        "id": "79YaOB0uSBn6"
      },
      "source": [
        "plt.figure()\n",
        "plt.plot(d_sort,Urban_sort,'r-', label='Urban')\n",
        "plt.plot(d_sort,Suburban_sort,'k-', label='Suburban')\n",
        "plt.plot(d_sort,Open_sort,'g-', label='Open')\n",
        "plt.legend()\n",
        "plt.title('Frekuensi 1800 MHz')\n",
        "plt.xlabel('Jarak (m)')\n",
        "plt.ylabel('Daya Terima (MiliWatt)')\n",
        "plt.show()\n"
      ],
      "execution_count": null,
      "outputs": []
    },
    {
      "cell_type": "markdown",
      "metadata": {
        "id": "19wUqWa9woIn"
      },
      "source": [
        "# Grafik 2 - Model Urban"
      ]
    },
    {
      "cell_type": "code",
      "metadata": {
        "id": "Zk1jSdPexLIp"
      },
      "source": [
        "f1=700 #MHz\n",
        "f2=900 #MHz\n",
        "f3=1800 #MHz\n",
        "loc='urban'"
      ],
      "execution_count": 14,
      "outputs": []
    },
    {
      "cell_type": "markdown",
      "metadata": {
        "id": "myQOO0170ERp"
      },
      "source": [
        "# Grafik Model Urban Prx"
      ]
    },
    {
      "cell_type": "code",
      "metadata": {
        "id": "Y1iMo8EvwyuB"
      },
      "source": [
        "LpUrban1=cos(f1,loc,tower,user,d)\r\n",
        "LpUrban2=cos(f2,loc,tower,user,d)\r\n",
        "LpUrban3=cos(f3,loc,tower,user,d)"
      ],
      "execution_count": 15,
      "outputs": []
    },
    {
      "cell_type": "code",
      "metadata": {
        "id": "uZm9uQac9Zv3"
      },
      "source": [
        "Prx_Urban1=Prx(Ptx_convert,LpUrban1,Gtx,Grx )\r\n",
        "Prx_Urban2=Prx(Ptx_convert,LpUrban2,Gtx,Grx)\r\n",
        "Prx_Urban3=Prx(Ptx_convert,LpUrban3,Gtx,Grx)"
      ],
      "execution_count": 16,
      "outputs": []
    },
    {
      "cell_type": "code",
      "metadata": {
        "id": "nkYiAWMA9klo"
      },
      "source": [
        "d_sort=d[np.argsort(d)]\r\n",
        "Urban1_sort=Prx_Urban1[np.argsort(d)]\r\n",
        "Urban2_sort=Prx_Urban2[np.argsort(d)]\r\n",
        "Urban3_sort=Prx_Urban3[np.argsort(d)]"
      ],
      "execution_count": 17,
      "outputs": []
    },
    {
      "cell_type": "code",
      "metadata": {
        "colab": {
          "base_uri": "https://localhost:8080/",
          "height": 295
        },
        "id": "SVEprCkIyFnx",
        "outputId": "846f84ab-fa48-4ae2-8bed-08d69f4715ab"
      },
      "source": [
        "plt.figure()\n",
        "plt.plot(d_sort,Urban1_sort,'r-', label='700 Mhz')\n",
        "plt.plot(d_sort,Urban2_sort,'k-', label='900 Mhz')\n",
        "plt.plot(d_sort,Urban3_sort,'g-', label='1800 Mhz')\n",
        "plt.legend()\n",
        "plt.title('Model Urban')\n",
        "plt.xlabel('Jarak (m)')\n",
        "plt.ylabel('Daya Terima (miliWatt)')\n",
        "plt.show()\n"
      ],
      "execution_count": 18,
      "outputs": [
        {
          "output_type": "display_data",
          "data": {
            "image/png": "[encoded data removed]",
            "text/plain": [
              "<Figure size 432x288 with 1 Axes>"
            ]
          },
          "metadata": {
            "tags": [],
            "needs_background": "light"
          }
        }
      ]
    },
    {
      "cell_type": "markdown",
      "metadata": {
        "id": "ah2-OUuLrHTs"
      },
      "source": [
        "## **2. Perhitungan** **SNR**"
      ]
    },
    {
      "cell_type": "code",
      "metadata": {
        "id": "Y47Div2nrzgm"
      },
      "source": [
        "BW= 5000000 #Hz"
      ],
      "execution_count": 19,
      "outputs": []
    },
    {
      "cell_type": "code",
      "metadata": {
        "id": "fjrQfbZZMdVO"
      },
      "source": [
        "def snr(Prx, bw):\r\n",
        "  noise=-174 + NtL(bw)\r\n",
        "  Noise=LtN(noise)\r\n",
        "  SNR=Prx/Noise\r\n",
        "  return SNR"
      ],
      "execution_count": 20,
      "outputs": []
    },
    {
      "cell_type": "code",
      "metadata": {
        "id": "wt47Cozq0FGk"
      },
      "source": [
        "SNR_Urban=snr(Prx_Urban,BW )\r\n",
        "SNR_Suburban=snr(Prx_Suburban,BW)\r\n",
        "SNR_Open=snr(Prx_Open,BW)"
      ],
      "execution_count": 21,
      "outputs": []
    },
    {
      "cell_type": "code",
      "metadata": {
        "id": "50ipumOF0_5f"
      },
      "source": [
        "d_sort=d[np.argsort(d)]\r\n",
        "snrUrban_sort=SNR_Urban[np.argsort(d)]\r\n",
        "snrSuburban_sort=SNR_Suburban[np.argsort(d)]\r\n",
        "snrOpen_sort=SNR_Open[np.argsort(d)]"
      ],
      "execution_count": 22,
      "outputs": []
    },
    {
      "cell_type": "code",
      "metadata": {
        "colab": {
          "base_uri": "https://localhost:8080/",
          "height": 295
        },
        "id": "9reaPc201Fqy",
        "outputId": "8a11f0fd-c3ab-4c60-d87b-cb0ab3dd34a7"
      },
      "source": [
        "plt.figure()\r\n",
        "plt.plot(d_sort,snrUrban_sort,'r-', label='700 Mhz')\r\n",
        "plt.plot(d_sort,snrSuburban_sort,'k-', label='900 Mhz')\r\n",
        "plt.plot(d_sort,snrOpen_sort,'g-', label='1800 Mhz')\r\n",
        "plt.legend()\r\n",
        "plt.title('SNR Frekuensi 1800')\r\n",
        "plt.xlabel('Jarak (m)')\r\n",
        "plt.ylabel('SNR (dB)')\r\n",
        "plt.show()"
      ],
      "execution_count": 23,
      "outputs": [
        {
          "output_type": "display_data",
          "data": {
            "image/png": "[encoded data removed]",
            "text/plain": [
              "<Figure size 432x288 with 1 Axes>"
            ]
          },
          "metadata": {
            "tags": [],
            "needs_background": "light"
          }
        }
      ]
    },
    {
      "cell_type": "markdown",
      "metadata": {
        "id": "Mi3fLkoSVNU-"
      },
      "source": [
        "# Grafik 1.2- Frekuensi 1800 Mhz"
      ]
    },
    {
      "cell_type": "code",
      "metadata": {
        "id": "-NYWD0PzrUHg"
      },
      "source": [
        "SNR_Urban1=snr(Prx_Urban1,BW )\r\n",
        "SNR_Urban2=snr(Prx_Urban2,BW)\r\n",
        "SNR_Urban3=snr(Prx_Urban3,BW)"
      ],
      "execution_count": 24,
      "outputs": []
    },
    {
      "cell_type": "code",
      "metadata": {
        "id": "Yzf_dAN9WD_j"
      },
      "source": [
        "d_sort=d[np.argsort(d)]\r\n",
        "snrUrban1_sort=SNR_Urban1[np.argsort(d)]\r\n",
        "snrUrban2_sort=SNR_Urban2[np.argsort(d)]\r\n",
        "snrUrban3_sort=SNR_Urban3[np.argsort(d)]"
      ],
      "execution_count": 25,
      "outputs": []
    },
    {
      "cell_type": "code",
      "metadata": {
        "colab": {
          "base_uri": "https://localhost:8080/",
          "height": 295
        },
        "id": "ZDCQ8ff_WSxA",
        "outputId": "4e17cf92-8367-4b55-d5d0-1a072a68ed83"
      },
      "source": [
        "plt.figure()\r\n",
        "plt.plot(d_sort,snrUrban1_sort,'r-', label='700 Mhz')\r\n",
        "plt.plot(d_sort,snrUrban2_sort,'k-', label='900 Mhz')\r\n",
        "plt.plot(d_sort,snrUrban3_sort,'g-', label='1800 Mhz')\r\n",
        "plt.legend()\r\n",
        "plt.title('Model Urban SNR')\r\n",
        "plt.xlabel('Jarak (m)')\r\n",
        "plt.ylabel('SNR (dB)')\r\n",
        "plt.show()"
      ],
      "execution_count": 26,
      "outputs": [
        {
          "output_type": "display_data",
          "data": {
            "image/png": "[encoded data removed]",
            "text/plain": [
              "<Figure size 432x288 with 1 Axes>"
            ]
          },
          "metadata": {
            "tags": [],
            "needs_background": "light"
          }
        }
      ]
    },
    {
      "cell_type": "markdown",
      "metadata": {
        "id": "mq0f-wazgDwB"
      },
      "source": [
        "**3. Perhitungan Capacity**"
      ]
    },
    {
      "cell_type": "code",
      "metadata": {
        "id": "vm7yG_zLMk2E"
      },
      "source": [
        "def C(Snr,Bw):\r\n",
        "    capacity= Bw*np.log2(1+Snr)\r\n",
        "    return capacity"
      ],
      "execution_count": 27,
      "outputs": []
    },
    {
      "cell_type": "markdown",
      "metadata": {
        "id": "x34_gZZuJYHh"
      },
      "source": [
        "Grafik 1.3 Frekuensi 1800"
      ]
    },
    {
      "cell_type": "code",
      "metadata": {
        "id": "36CXGZmgYKY6"
      },
      "source": [
        "C_Urban=C(SNR_Urban,BW)\r\n",
        "C_Suburban=C(SNR_Suburban,BW)\r\n",
        "C_Open=C(SNR_Open,BW)"
      ],
      "execution_count": 28,
      "outputs": []
    },
    {
      "cell_type": "code",
      "metadata": {
        "id": "5bhJ20z5YwkR"
      },
      "source": [
        "d_sort=d[np.argsort(d)]\r\n",
        "UrbanC_sort=C_Urban[np.argsort(d)]\r\n",
        "SuburbanC_sort=C_Suburban[np.argsort(d)]\r\n",
        "OpenC_sort=C_Open[np.argsort(d)]"
      ],
      "execution_count": 29,
      "outputs": []
    },
    {
      "cell_type": "code",
      "metadata": {
        "colab": {
          "base_uri": "https://localhost:8080/",
          "height": 295
        },
        "id": "aB-0Z1ugZP0D",
        "outputId": "235b1e8a-820d-4a2d-a196-e25f88abf0df"
      },
      "source": [
        "plt.figure()\r\n",
        "plt.plot(d_sort,UrbanC_sort,'r-', label='700 Mhz')\r\n",
        "plt.plot(d_sort,SuburbanC_sort,'k-', label='900 Mhz')\r\n",
        "plt.plot(d_sort,OpenC_sort,'g-', label='1800 Mhz')\r\n",
        "plt.legend()\r\n",
        "plt.title('Capacity Frekuensi 1800')\r\n",
        "plt.xlabel('Jarak (m)')\r\n",
        "plt.ylabel('Kapasitas (Bps)')\r\n",
        "plt.show()"
      ],
      "execution_count": 30,
      "outputs": [
        {
          "output_type": "display_data",
          "data": {
            "image/png": "[encoded data removed]",
            "text/plain": [
              "<Figure size 432x288 with 1 Axes>"
            ]
          },
          "metadata": {
            "tags": [],
            "needs_background": "light"
          }
        }
      ]
    },
    {
      "cell_type": "markdown",
      "metadata": {
        "id": "sVjY1CIMiSz8"
      },
      "source": [
        ""
      ]
    },
    {
      "cell_type": "code",
      "metadata": {
        "id": "Jj1S0wfhiS_4"
      },
      "source": [
        "C_Urban1=C(SNR_Urban1,BW)\r\n",
        "C_Urban2=C(SNR_Urban2,BW)\r\n",
        "C_Urban3=C(SNR_Urban3,BW)"
      ],
      "execution_count": 31,
      "outputs": []
    },
    {
      "cell_type": "code",
      "metadata": {
        "id": "ufBw4d7BJtT7"
      },
      "source": [
        "d_sort=d[np.argsort(d)]\r\n",
        "UrbanC1_sort=C_Urban1[np.argsort(d)]\r\n",
        "UrbanC2_sort=C_Urban2[np.argsort(d)]\r\n",
        "UrbanC3_sort=C_Urban3[np.argsort(d)]"
      ],
      "execution_count": 32,
      "outputs": []
    },
    {
      "cell_type": "code",
      "metadata": {
        "colab": {
          "base_uri": "https://localhost:8080/",
          "height": 295
        },
        "id": "mFW90602KB1d",
        "outputId": "68dfd50e-b964-4842-d73e-a7f483b6a8a5"
      },
      "source": [
        "plt.figure()\r\n",
        "plt.plot(d_sort,UrbanC1_sort,'r-', label='700 Mhz')\r\n",
        "plt.plot(d_sort,UrbanC2_sort,'k-', label='900 Mhz')\r\n",
        "plt.plot(d_sort,UrbanC3_sort,'g-', label='1800 Mhz')\r\n",
        "plt.legend()\r\n",
        "plt.title('Capacity Model Urban')\r\n",
        "plt.xlabel('Jarak (m)')\r\n",
        "plt.ylabel('Kapasitas (Bps)')\r\n",
        "plt.show()"
      ],
      "execution_count": 33,
      "outputs": [
        {
          "output_type": "display_data",
          "data": {
            "image/png": "[encoded data removed]",
            "text/plain": [
              "<Figure size 432x288 with 1 Axes>"
            ]
          },
          "metadata": {
            "tags": [],
            "needs_background": "light"
          }
        }
      ]
    }
  ]
}